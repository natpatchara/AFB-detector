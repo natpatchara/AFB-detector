{
 "cells": [
  {
   "cell_type": "code",
   "execution_count": 1,
   "metadata": {},
   "outputs": [],
   "source": [
    "import numpy as np\n",
    "import tkinter as tk\n",
    "from PIL import Image, ImageTk\n",
    "import os"
   ]
  },
  {
   "cell_type": "code",
   "execution_count": 2,
   "metadata": {},
   "outputs": [],
   "source": [
    "# define path to image file\n",
    "a = 0\n",
    "name_lst = os.listdir('Include/prototype_test/')\n",
    "path = 'Include/prototype_test/'"
   ]
  },
  {
   "cell_type": "code",
   "execution_count": 3,
   "metadata": {},
   "outputs": [
    {
     "data": {
      "text/plain": [
       "['greeting57.png',\n",
       " 'heart25.png',\n",
       " 'input1-no.png',\n",
       " 'input1.png',\n",
       " 'input10-no.png',\n",
       " 'input10.png',\n",
       " 'input2-no.png',\n",
       " 'input2.png',\n",
       " 'input20.png',\n",
       " 'input3.png',\n",
       " 'input4.png',\n",
       " 'input5.png',\n",
       " 'input50.png',\n",
       " 'input6.png',\n",
       " 'input7.png',\n",
       " 'input8-no.png',\n",
       " 'input8.png',\n",
       " 'jerry47.png',\n",
       " 'sedgewick60.png',\n",
       " 'wayne98.png']"
      ]
     },
     "execution_count": 3,
     "metadata": {},
     "output_type": "execute_result"
    }
   ],
   "source": [
    "# see if dir is correctly load \n",
    "# use for debug propose only may or may not need to run\n",
    "name_lst"
   ]
  },
  {
   "cell_type": "code",
   "execution_count": 4,
   "metadata": {},
   "outputs": [],
   "source": [
    "A = np.empty((0,512,512,4), int)\n",
    "B = np.empty((0), bool)"
   ]
  },
  {
   "cell_type": "code",
   "execution_count": 12,
   "metadata": {},
   "outputs": [
    {
     "name": "stdout",
     "output_type": "stream",
     "text": [
      "(512, 512, 4)\n"
     ]
    }
   ],
   "source": [
    "# output must match last three number of list in A = np.empty for script to work \n",
    "# use for debug propose only may or may not need to run\n",
    "img_file = Image.open(path+name_lst[0])\n",
    "print (np.array(img_file).shape)\n",
    "img_file.close()\n"
   ]
  },
  {
   "cell_type": "code",
   "execution_count": 6,
   "metadata": {},
   "outputs": [],
   "source": [
    "# use tkinter to create window use for display image and process keyboard input\n",
    "# may not be the most optimize way to solve this problem since it is not need full GUI here\n",
    "# draw back here is that image is not update is it detected event so you cannot press too fast\n",
    "# or you will not see sample picture \n",
    "\n",
    "# define window we will work on\n",
    "window = tk.Tk()\n",
    "# set title name to Sample\n",
    "window.title(\"Sample\")\n",
    "# set window dimention\n",
    "# dimention here need to be adjust according to image size ie first 2 position of above cell output\n",
    "window.geometry(\"512x512\")\n",
    "# set window background color\n",
    "window.configure(background='grey')\n",
    "# initialize variable need for loop over all img_file\n",
    "# since for loop cannot be use in conjunction with tkinter\n",
    "counter = 0\n",
    "lst_num = len(name_lst)\n",
    "img_name = name_lst[counter]\n",
    "img_file = Image.open(path+img_name)\n",
    "img = ImageTk.PhotoImage(img_file)\n",
    "# define label used to display image\n",
    "panel = tk.Label(window, image = img)\n",
    "panel.pack(side = \"bottom\", fill = \"both\", expand = \"yes\")\n",
    "\n",
    "# define function to process when negative key is pressed \n",
    "def Negative(e):\n",
    "    # define varible as global variable since it will be used to loop over entire dataset\n",
    "    global img_name\n",
    "    global img_file\n",
    "    global counter\n",
    "    global A\n",
    "    global B\n",
    "    # display outpur\n",
    "    print(img_name + 'is negative.')\n",
    "    # add image as result to np array\n",
    "    A = np.insert(A, A.shape[0], np.array(img_file), axis = 0)\n",
    "    B = np.insert(B, B.shape[0], 0, axis = 0)\n",
    "    # increase counter by 1 and check if it is entire dataset if it is then destroy window\n",
    "    counter = counter + 1\n",
    "    if counter == lst_num:\n",
    "        window.destroy()\n",
    "    # else open new image load and display that image\n",
    "    else:\n",
    "        img_name = name_lst[counter]\n",
    "        img_file.close()\n",
    "        img_file = Image.open(path+img_name)\n",
    "        img = ImageTk.PhotoImage(img_file)\n",
    "        panel.configure(image=img)\n",
    "        panel.image = img\n",
    "    # wait for 0.3 second\n",
    "    time.sleep(0.3)\n",
    "\n",
    "# define function to process when positive key is pressed process is similar to negative function\n",
    "def Positive(e):\n",
    "    global img_name\n",
    "    global img_file\n",
    "    global counter\n",
    "    global A\n",
    "    global B\n",
    "    print(img_name + 'is positive')\n",
    "    A = np.insert(A, A.shape[0], np.array(img_file), axis = 0)\n",
    "    B = np.insert(B, B.shape[0], 1, axis = 0)\n",
    "    counter = counter + 1\n",
    "    if counter == lst_num:\n",
    "        window.destroy()\n",
    "    else:\n",
    "        img_name = name_lst[counter]\n",
    "        img_file.close()\n",
    "        img_file = Image.open(path+img_name)\n",
    "        img = ImageTk.PhotoImage(img_file)\n",
    "        panel.configure(image=img)\n",
    "        panel.image = img\n",
    "    time.sleep(0.3)\n",
    "\n",
    "# bind key to function defined above\n",
    "# adjust n and p for whatever input you want for negative and positive repectively\n",
    "window.bind('n', Negative)\n",
    "window.bind('p',Positive)\n",
    "# order window to loop until all image is opened\n",
    "window.mainloop()        \n",
    "# clean file stream\n",
    "img_file.close()\n",
    "        "
   ]
  },
  {
   "cell_type": "code",
   "execution_count": 9,
   "metadata": {},
   "outputs": [],
   "source": [
    "np.save(\"A.npy\", A)\n",
    "np.save(\"B.npy\", B)"
   ]
  }
 ],
 "metadata": {
  "kernelspec": {
   "display_name": "Python 3",
   "language": "python",
   "name": "python3"
  },
  "language_info": {
   "codemirror_mode": {
    "name": "ipython",
    "version": 3
   },
   "file_extension": ".py",
   "mimetype": "text/x-python",
   "name": "python",
   "nbconvert_exporter": "python",
   "pygments_lexer": "ipython3",
   "version": "3.7.0"
  }
 },
 "nbformat": 4,
 "nbformat_minor": 2
}
