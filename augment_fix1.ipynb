{
 "cells": [
  {
   "cell_type": "code",
   "execution_count": 22,
   "metadata": {},
   "outputs": [],
   "source": [
    "import numpy as np\n",
    "from keras.wrappers.scikit_learn import KerasClassifier\n",
    "from keras.utils import np_utils\n",
    "from keras.preprocessing.image import ImageDataGenerator\n",
    "# from sklearn.cross_validation import train_test_split # for scikit_learn version 0.18 or lower\n",
    "from sklearn.model_selection import train_test_split # for scikit_learn version 0.18 or upper\n",
    "from PIL import Image\n",
    "import io\n",
    "import pathlib\n",
    "import os"
   ]
  },
  {
   "cell_type": "code",
   "execution_count": 23,
   "metadata": {},
   "outputs": [],
   "source": [
    "x = []\n",
    "y = []\n",
    "gen_factor = 5 # number of augmented file generated per class \n",
    "               # some file may not generate the exact copy of number specify here"
   ]
  },
  {
   "cell_type": "code",
   "execution_count": 24,
   "metadata": {},
   "outputs": [],
   "source": [
    "# define path to image file: a = file index b = 0/1\n",
    "b = ['negative','positive']\n",
    "name_lst = os.listdir('Include/train/' + b[0] + '/')"
   ]
  },
  {
   "cell_type": "code",
   "execution_count": 25,
   "metadata": {},
   "outputs": [],
   "source": [
    "for c in [0,1]:\n",
    "    for img_name in name_lst:\n",
    "        path = 'Include/train/' + b[0] + '/' + img_name\n",
    "        img_file = Image.open(path)\n",
    "        img_arr = np.asarray(img_file)\n",
    "        x.append(img_arr)\n",
    "        y.append(b[c])\n",
    "        \n",
    "X = np.array(x)\n",
    "Y = np.array(y)\n",
    "\n",
    "np.save('X.npy', X)\n",
    "np.save('Y.npy', Y)"
   ]
  },
  {
   "cell_type": "code",
   "execution_count": 26,
   "metadata": {
    "scrolled": true
   },
   "outputs": [],
   "source": [
    "X_train, X_test, Y_train, Y_test = train_test_split(X, Y, test_size = 0.2, random_state = 10)"
   ]
  },
  {
   "cell_type": "code",
   "execution_count": 27,
   "metadata": {},
   "outputs": [],
   "source": [
    "datagen = ImageDataGenerator(\n",
    "    rotation_range=20,\n",
    "    fill_mode='constant',\n",
    "    height_shift_range=0.1,\n",
    "    width_shift_range=0.1,\n",
    "    horizontal_flip=True,\n",
    "    vertical_flip=True,\n",
    "    shear_range=0.2)"
   ]
  },
  {
   "cell_type": "code",
   "execution_count": 28,
   "metadata": {},
   "outputs": [],
   "source": [
    "negative_train = X_train[np.where(Y_train == 'negative')]\n",
    "positive_train = X_train[np.where(Y_train == 'positive')]\n",
    "#still have test dataset"
   ]
  },
  {
   "cell_type": "code",
   "execution_count": 40,
   "metadata": {},
   "outputs": [],
   "source": [
    "negative_train_generator = datagen.flow(negative_train,\n",
    "                                Y_train[np.where(Y_train == 'negative')],\n",
    "                                save_to_dir = 'Include/train/negative_aug', # store image generate in existed folder\n",
    "                                batch_size = 1)\n",
    "positive_train_generator = datagen.flow(positive_train,\n",
    "                                Y_train[np.where(Y_train == 'positive')],\n",
    "                                save_to_dir = 'Include/train/positive_aug', # store image generate in existed folder\n",
    "                                batch_size = 3)"
   ]
  },
  {
   "cell_type": "markdown",
   "metadata": {},
   "source": [
    "Augmented file should not be generate instead should be run in fit_generator "
   ]
  },
  {
   "cell_type": "code",
   "execution_count": 41,
   "metadata": {},
   "outputs": [],
   "source": [
    "i = 1\n",
    "for batch in negative_train_generator: # generate augmented file the exact amount of factor * number of train data\n",
    "    i += 1\n",
    "    if i > len(negative_train)*gen_factor:\n",
    "        break "
   ]
  },
  {
   "cell_type": "code",
   "execution_count": 42,
   "metadata": {},
   "outputs": [],
   "source": [
    "i = 1\n",
    "for batch in positive_train_generator: # generate augmented file the exact amount of factor * number of train data\n",
    "    i += 1\n",
    "    if i > len(positive_train)*gen_factor:\n",
    "        break "
   ]
  }
 ],
 "metadata": {
  "kernelspec": {
   "display_name": "keras-python3.6",
   "language": "python",
   "name": "keras-python3.6"
  },
  "language_info": {
   "codemirror_mode": {
    "name": "ipython",
    "version": 3
   },
   "file_extension": ".py",
   "mimetype": "text/x-python",
   "name": "python",
   "nbconvert_exporter": "python",
   "pygments_lexer": "ipython3",
   "version": "3.6.7"
  }
 },
 "nbformat": 4,
 "nbformat_minor": 2
}
