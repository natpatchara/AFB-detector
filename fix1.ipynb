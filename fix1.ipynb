{
 "cells": [
  {
   "cell_type": "code",
   "execution_count": 7,
   "metadata": {},
   "outputs": [],
   "source": [
    "import numpy as np\n",
    "from PIL import Image\n",
    "import io\n",
    "import pathlib\n",
    "import os"
   ]
  },
  {
   "cell_type": "code",
   "execution_count": null,
   "metadata": {},
   "outputs": [],
   "source": [
    "A = np.array([])\n",
    "B = np.array([])\n",
    "# define path to image file\n",
    "a = 0\n",
    "name_lst = os.listdir('Include/train/negative/')\n",
    "path = 'Include/train/negative/'"
   ]
  },
  {
   "cell_type": "code",
   "execution_count": null,
   "metadata": {},
   "outputs": [],
   "source": [
    "for img_name in name_lst:\n",
    "    with Image.open(path + img_name) as img_file:\n",
    "        img_file.show\n",
    "        temp = input(\"press key command\")\n",
    "        if temp == '1':\n",
    "            print(img_name + 'is negative.')\n",
    "            A.asarray(img_file)\n",
    "            B.asarray('negative')\n",
    "        elif temp == '2':\n",
    "            print(img_file + 'is positive')\n",
    "            A.asarray(img_file)\n",
    "            B.asarray('positive')\n",
    "        else:\n",
    "            print('ERROR')\n",
    "            \n",
    "np.save(A.npy, A)\n",
    "np.save(B.npy, B)"
   ]
  },
  {
   "cell_type": "code",
   "execution_count": 4,
   "metadata": {},
   "outputs": [
    {
     "name": "stdout",
     "output_type": "stream",
     "text": [
      "press a key\n",
      "1\n",
      "correct\n",
      "press a key\n",
      "1\n",
      "correct\n",
      "press a key\n",
      "2\n",
      "DETECTED\n",
      "press a key\n",
      "2\n",
      "DETECTED\n",
      "press a key\n",
      "3\n"
     ]
    }
   ],
   "source": [
    "while True:\n",
    "    try:\n",
    "        print('press a key')\n",
    "        a = input()\n",
    "        if a == '1':\n",
    "            print('correct')\n",
    "        elif a == '2':\n",
    "            print('DETECTED')\n",
    "        else : break\n",
    "    except:\n",
    "        break"
   ]
  }
 ],
 "metadata": {
  "kernelspec": {
   "display_name": "Python 3",
   "language": "python",
   "name": "python3"
  },
  "language_info": {
   "codemirror_mode": {
    "name": "ipython",
    "version": 3
   },
   "file_extension": ".py",
   "mimetype": "text/x-python",
   "name": "python",
   "nbconvert_exporter": "python",
   "pygments_lexer": "ipython3",
   "version": "3.6.6"
  }
 },
 "nbformat": 4,
 "nbformat_minor": 2
}
